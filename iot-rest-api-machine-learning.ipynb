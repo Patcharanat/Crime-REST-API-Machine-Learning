{
 "cells": [
  {
   "cell_type": "markdown",
   "id": "481985c0",
   "metadata": {},
   "source": [
    "# Term Project (Data Analysis): IoT Fundamentals 2102541\n",
    "---\n",
    "*For educational purposes*\n",
    "\n",
    "<u>*Objective:* Work with REST API to request for Data, Study Machine Learning applying</u>\n",
    "\n",
    "*Term Project by Patcharanat P.*<br>\n",
    "\n",
    "**Data Source : DATA.POLICE.UK** *(Last updated: 22-03-01 [ISO format])*\n",
    "\n",
    "Police API Documentation:\n",
    "* [Link to API Documentation](https://data.police.uk/docs/)\n",
    "\n",
    "Crime categories:\n",
    "* [Link to Crime catagories document](https://data.police.uk/docs/method/crime-categories/)\n",
    "\n",
    "Crime at a location:\n",
    "* [Link to Crime at a location](https://data.police.uk/docs/method/crimes-at-location/)\n",
    "\n",
    "### About\n",
    "    Data is about crimes occuring at a specific location that is Victoria Square at Birmingham, United Kingdom. It's open data about crime in England, Wales and Northern Ireland, which is made available under the Open Government Licence v3.0.\n",
    "\n",
    "### Table of Contents\n",
    "* Import Library\n",
    "* Data Preparing (REST API)\n",
    "* Exploratory Data Analysis: EDA\n",
    "* Machine Learning\n",
    "* Reference"
   ]
  },
  {
   "cell_type": "markdown",
   "id": "da94a9bb",
   "metadata": {},
   "source": [
    "---"
   ]
  },
  {
   "cell_type": "markdown",
   "id": "2a22f5da",
   "metadata": {},
   "source": [
    "### Import Library"
   ]
  },
  {
   "cell_type": "code",
   "execution_count": 2,
   "id": "e11741f0",
   "metadata": {},
   "outputs": [],
   "source": [
    "import numpy as np\n",
    "import pandas as pd\n",
    "import matplotlib.pyplot as plt\n",
    "import seaborn as sns"
   ]
  },
  {
   "cell_type": "markdown",
   "id": "f9663793",
   "metadata": {},
   "source": [
    "---"
   ]
  },
  {
   "cell_type": "markdown",
   "id": "3fe14488",
   "metadata": {},
   "source": [
    "### Data Preparing (REST API)"
   ]
  },
  {
   "cell_type": "markdown",
   "id": "506f5327",
   "metadata": {},
   "source": [
    "#### 1. Call REST API to collect all needed data\n",
    "* Crime Catagories\n",
    "* Crime recorded last 2 years (maximum period available to call from data provider)"
   ]
  },
  {
   "cell_type": "code",
   "execution_count": 27,
   "id": "9e11cb72",
   "metadata": {},
   "outputs": [
    {
     "data": {
      "text/html": [
       "<div>\n",
       "<style scoped>\n",
       "    .dataframe tbody tr th:only-of-type {\n",
       "        vertical-align: middle;\n",
       "    }\n",
       "\n",
       "    .dataframe tbody tr th {\n",
       "        vertical-align: top;\n",
       "    }\n",
       "\n",
       "    .dataframe thead th {\n",
       "        text-align: right;\n",
       "    }\n",
       "</style>\n",
       "<table border=\"1\" class=\"dataframe\">\n",
       "  <thead>\n",
       "    <tr style=\"text-align: right;\">\n",
       "      <th></th>\n",
       "      <th>url</th>\n",
       "      <th>name</th>\n",
       "    </tr>\n",
       "  </thead>\n",
       "  <tbody>\n",
       "    <tr>\n",
       "      <th>0</th>\n",
       "      <td>all-crime</td>\n",
       "      <td>All crime</td>\n",
       "    </tr>\n",
       "    <tr>\n",
       "      <th>1</th>\n",
       "      <td>anti-social-behaviour</td>\n",
       "      <td>Anti-social behaviour</td>\n",
       "    </tr>\n",
       "    <tr>\n",
       "      <th>2</th>\n",
       "      <td>bicycle-theft</td>\n",
       "      <td>Bicycle theft</td>\n",
       "    </tr>\n",
       "    <tr>\n",
       "      <th>3</th>\n",
       "      <td>burglary</td>\n",
       "      <td>Burglary</td>\n",
       "    </tr>\n",
       "    <tr>\n",
       "      <th>4</th>\n",
       "      <td>criminal-damage-arson</td>\n",
       "      <td>Criminal damage and arson</td>\n",
       "    </tr>\n",
       "    <tr>\n",
       "      <th>5</th>\n",
       "      <td>drugs</td>\n",
       "      <td>Drugs</td>\n",
       "    </tr>\n",
       "    <tr>\n",
       "      <th>6</th>\n",
       "      <td>other-theft</td>\n",
       "      <td>Other theft</td>\n",
       "    </tr>\n",
       "    <tr>\n",
       "      <th>7</th>\n",
       "      <td>possession-of-weapons</td>\n",
       "      <td>Possession of weapons</td>\n",
       "    </tr>\n",
       "    <tr>\n",
       "      <th>8</th>\n",
       "      <td>public-order</td>\n",
       "      <td>Public order</td>\n",
       "    </tr>\n",
       "    <tr>\n",
       "      <th>9</th>\n",
       "      <td>robbery</td>\n",
       "      <td>Robbery</td>\n",
       "    </tr>\n",
       "    <tr>\n",
       "      <th>10</th>\n",
       "      <td>shoplifting</td>\n",
       "      <td>Shoplifting</td>\n",
       "    </tr>\n",
       "    <tr>\n",
       "      <th>11</th>\n",
       "      <td>theft-from-the-person</td>\n",
       "      <td>Theft from the person</td>\n",
       "    </tr>\n",
       "    <tr>\n",
       "      <th>12</th>\n",
       "      <td>vehicle-crime</td>\n",
       "      <td>Vehicle crime</td>\n",
       "    </tr>\n",
       "    <tr>\n",
       "      <th>13</th>\n",
       "      <td>violent-crime</td>\n",
       "      <td>Violence and sexual offences</td>\n",
       "    </tr>\n",
       "    <tr>\n",
       "      <th>14</th>\n",
       "      <td>other-crime</td>\n",
       "      <td>Other crime</td>\n",
       "    </tr>\n",
       "  </tbody>\n",
       "</table>\n",
       "</div>"
      ],
      "text/plain": [
       "                      url                          name\n",
       "0               all-crime                     All crime\n",
       "1   anti-social-behaviour         Anti-social behaviour\n",
       "2           bicycle-theft                 Bicycle theft\n",
       "3                burglary                      Burglary\n",
       "4   criminal-damage-arson     Criminal damage and arson\n",
       "5                   drugs                         Drugs\n",
       "6             other-theft                   Other theft\n",
       "7   possession-of-weapons         Possession of weapons\n",
       "8            public-order                  Public order\n",
       "9                 robbery                       Robbery\n",
       "10            shoplifting                   Shoplifting\n",
       "11  theft-from-the-person         Theft from the person\n",
       "12          vehicle-crime                 Vehicle crime\n",
       "13          violent-crime  Violence and sexual offences\n",
       "14            other-crime                   Other crime"
      ]
     },
     "execution_count": 27,
     "metadata": {},
     "output_type": "execute_result"
    }
   ],
   "source": [
    "data_category = pd.read_json(\"https://data.police.uk/api/crime-categories?date=2022-04\")\n",
    "data_category"
   ]
  },
  {
   "cell_type": "markdown",
   "id": "f55223ba",
   "metadata": {},
   "source": [
    "I will create a dict that can be use for categories mapping for a cleaned visualization."
   ]
  },
  {
   "cell_type": "code",
   "execution_count": 30,
   "id": "6fd9c5c9",
   "metadata": {},
   "outputs": [],
   "source": [
    "mapping_dict = dict()\n",
    "for i in range(data_category.shape[0]) :\n",
    "    mapping_dict[data_category.iloc[i, 0]] = data_category.iloc[i, 1]"
   ]
  },
  {
   "cell_type": "markdown",
   "id": "70fc1ff4",
   "metadata": {},
   "source": [
    "Due to a API request provides only record of 1 month, So I need to iterate API request (with different URL) to collect enough data for prediction."
   ]
  },
  {
   "cell_type": "code",
   "execution_count": 4,
   "id": "837c33c6",
   "metadata": {},
   "outputs": [],
   "source": [
    "# Use REST API to request the crimes data last 2 years (Last update: 22-03)\n",
    "# ISO format: YYYY-MM\n",
    "# call for data from 2020-01 to 2022-03\n",
    "data_all = list() # for preparing to aggregate all called api, then I will concatenate all data into one DataFrame\n",
    "year = 20\n",
    "while year < 23 :\n",
    "    month = 1\n",
    "    while month < 13 :\n",
    "        if len(str(month)) == 1 : # change 1 to 01 for month prefix assigned as month_index\n",
    "                month_index = f'0{month}'\n",
    "        else :\n",
    "            month_index = month\n",
    "        # Pull data each year from the api\n",
    "        try : # explained in below cell\n",
    "            exec(f'data_20{year}_{month} = pd.read_json(\"https://data.police.uk/api/crimes-at-location?date=20{year}-{month_index}&lat=52.48&lng=-1.9025\")')\n",
    "            # keep the data in data_all list\n",
    "            exec(f'data_all.append(data_20{year}_{month})')\n",
    "            month += 1\n",
    "        except :\n",
    "            pass\n",
    "        if year == 22 and month == 4 : # break loop after data 2022-02 pulled successfully\n",
    "            break\n",
    "    year += 1\n",
    "# result is data_all = [data_2020_1, data_2020_2, data_2020_3, ... , data_2022_3]"
   ]
  },
  {
   "cell_type": "markdown",
   "id": "7f488852",
   "metadata": {},
   "source": [
    "<u>For try and except block:</u> I have tried to call API from the website and <b>HTTP 500 error</b> occurred due to a failed API request.<br>\n",
    "solution from <i>[Line Developers](https://developers.line.biz/en/docs/messaging-api/retrying-api-request/)</i> said the API request need retrying."
   ]
  },
  {
   "cell_type": "markdown",
   "id": "11bb34e2",
   "metadata": {},
   "source": [
    "#### 2. Create DataFrame, and Select necessary columns"
   ]
  },
  {
   "cell_type": "code",
   "execution_count": 5,
   "id": "172230bb",
   "metadata": {},
   "outputs": [
    {
     "data": {
      "text/html": [
       "<div>\n",
       "<style scoped>\n",
       "    .dataframe tbody tr th:only-of-type {\n",
       "        vertical-align: middle;\n",
       "    }\n",
       "\n",
       "    .dataframe tbody tr th {\n",
       "        vertical-align: top;\n",
       "    }\n",
       "\n",
       "    .dataframe thead th {\n",
       "        text-align: right;\n",
       "    }\n",
       "</style>\n",
       "<table border=\"1\" class=\"dataframe\">\n",
       "  <thead>\n",
       "    <tr style=\"text-align: right;\">\n",
       "      <th></th>\n",
       "      <th>category</th>\n",
       "      <th>location_type</th>\n",
       "      <th>location</th>\n",
       "      <th>context</th>\n",
       "      <th>outcome_status</th>\n",
       "      <th>persistent_id</th>\n",
       "      <th>id</th>\n",
       "      <th>location_subtype</th>\n",
       "      <th>month</th>\n",
       "    </tr>\n",
       "  </thead>\n",
       "  <tbody>\n",
       "    <tr>\n",
       "      <th>0</th>\n",
       "      <td>anti-social-behaviour</td>\n",
       "      <td>Force</td>\n",
       "      <td>{'latitude': '52.480173', 'street': {'id': 125...</td>\n",
       "      <td></td>\n",
       "      <td>None</td>\n",
       "      <td></td>\n",
       "      <td>80681683</td>\n",
       "      <td></td>\n",
       "      <td>2020-01</td>\n",
       "    </tr>\n",
       "    <tr>\n",
       "      <th>1</th>\n",
       "      <td>anti-social-behaviour</td>\n",
       "      <td>Force</td>\n",
       "      <td>{'latitude': '52.480173', 'street': {'id': 125...</td>\n",
       "      <td></td>\n",
       "      <td>None</td>\n",
       "      <td></td>\n",
       "      <td>80682525</td>\n",
       "      <td></td>\n",
       "      <td>2020-01</td>\n",
       "    </tr>\n",
       "    <tr>\n",
       "      <th>2</th>\n",
       "      <td>other-theft</td>\n",
       "      <td>Force</td>\n",
       "      <td>{'latitude': '52.480173', 'street': {'id': 125...</td>\n",
       "      <td></td>\n",
       "      <td>{'category': 'Investigation complete; no suspe...</td>\n",
       "      <td>b971017bc1636ab55ce4472dbbc0bcfc96a01824aa5719...</td>\n",
       "      <td>80674586</td>\n",
       "      <td></td>\n",
       "      <td>2020-01</td>\n",
       "    </tr>\n",
       "    <tr>\n",
       "      <th>3</th>\n",
       "      <td>other-theft</td>\n",
       "      <td>Force</td>\n",
       "      <td>{'latitude': '52.480173', 'street': {'id': 125...</td>\n",
       "      <td></td>\n",
       "      <td>{'category': 'Investigation complete; no suspe...</td>\n",
       "      <td>ab7b9576e5aa11eb145ebdce66a605599046a188f7c878...</td>\n",
       "      <td>80677002</td>\n",
       "      <td></td>\n",
       "      <td>2020-01</td>\n",
       "    </tr>\n",
       "    <tr>\n",
       "      <th>4</th>\n",
       "      <td>violent-crime</td>\n",
       "      <td>Force</td>\n",
       "      <td>{'latitude': '52.480173', 'street': {'id': 125...</td>\n",
       "      <td></td>\n",
       "      <td>{'category': 'Investigation complete; no suspe...</td>\n",
       "      <td>0d292878bcb169d16db16b11dde972dee74ced61e5c1be...</td>\n",
       "      <td>80680495</td>\n",
       "      <td></td>\n",
       "      <td>2020-01</td>\n",
       "    </tr>\n",
       "  </tbody>\n",
       "</table>\n",
       "</div>"
      ],
      "text/plain": [
       "                category location_type  \\\n",
       "0  anti-social-behaviour         Force   \n",
       "1  anti-social-behaviour         Force   \n",
       "2            other-theft         Force   \n",
       "3            other-theft         Force   \n",
       "4          violent-crime         Force   \n",
       "\n",
       "                                            location context  \\\n",
       "0  {'latitude': '52.480173', 'street': {'id': 125...           \n",
       "1  {'latitude': '52.480173', 'street': {'id': 125...           \n",
       "2  {'latitude': '52.480173', 'street': {'id': 125...           \n",
       "3  {'latitude': '52.480173', 'street': {'id': 125...           \n",
       "4  {'latitude': '52.480173', 'street': {'id': 125...           \n",
       "\n",
       "                                      outcome_status  \\\n",
       "0                                               None   \n",
       "1                                               None   \n",
       "2  {'category': 'Investigation complete; no suspe...   \n",
       "3  {'category': 'Investigation complete; no suspe...   \n",
       "4  {'category': 'Investigation complete; no suspe...   \n",
       "\n",
       "                                       persistent_id        id  \\\n",
       "0                                                     80681683   \n",
       "1                                                     80682525   \n",
       "2  b971017bc1636ab55ce4472dbbc0bcfc96a01824aa5719...  80674586   \n",
       "3  ab7b9576e5aa11eb145ebdce66a605599046a188f7c878...  80677002   \n",
       "4  0d292878bcb169d16db16b11dde972dee74ced61e5c1be...  80680495   \n",
       "\n",
       "  location_subtype    month  \n",
       "0                   2020-01  \n",
       "1                   2020-01  \n",
       "2                   2020-01  \n",
       "3                   2020-01  \n",
       "4                   2020-01  "
      ]
     },
     "execution_count": 5,
     "metadata": {},
     "output_type": "execute_result"
    }
   ],
   "source": [
    "# Union all pulled data into a DataFrame, then assign as df\n",
    "df = pd.concat(data_all)\n",
    "df.head()"
   ]
  },
  {
   "cell_type": "code",
   "execution_count": 6,
   "id": "1b568a04",
   "metadata": {},
   "outputs": [
    {
     "name": "stdout",
     "output_type": "stream",
     "text": [
      "<class 'pandas.core.frame.DataFrame'>\n",
      "Int64Index: 237 entries, 0 to 7\n",
      "Data columns (total 9 columns):\n",
      " #   Column            Non-Null Count  Dtype \n",
      "---  ------            --------------  ----- \n",
      " 0   category          237 non-null    object\n",
      " 1   location_type     237 non-null    object\n",
      " 2   location          237 non-null    object\n",
      " 3   context           237 non-null    object\n",
      " 4   outcome_status    198 non-null    object\n",
      " 5   persistent_id     237 non-null    object\n",
      " 6   id                237 non-null    int64 \n",
      " 7   location_subtype  237 non-null    object\n",
      " 8   month             237 non-null    object\n",
      "dtypes: int64(1), object(8)\n",
      "memory usage: 18.5+ KB\n"
     ]
    }
   ],
   "source": [
    "df.info()\n",
    "# DataFrame (df) include 237 rows and 9 colums"
   ]
  },
  {
   "cell_type": "markdown",
   "id": "2da42f0c",
   "metadata": {},
   "source": [
    "From 2 cells above, we can see that data in all of these columns except \"category\", and \"month\" are useless for analysis.<br>\n",
    "--> Only 3 things, we consider it as important, are <b>\"Category of crime that occurrs\", \"When it occurs\", and \"Number of times that each category occurs\"</b>"
   ]
  },
  {
   "cell_type": "code",
   "execution_count": 7,
   "id": "ba49ba98",
   "metadata": {},
   "outputs": [
    {
     "data": {
      "text/html": [
       "<div>\n",
       "<style scoped>\n",
       "    .dataframe tbody tr th:only-of-type {\n",
       "        vertical-align: middle;\n",
       "    }\n",
       "\n",
       "    .dataframe tbody tr th {\n",
       "        vertical-align: top;\n",
       "    }\n",
       "\n",
       "    .dataframe thead th {\n",
       "        text-align: right;\n",
       "    }\n",
       "</style>\n",
       "<table border=\"1\" class=\"dataframe\">\n",
       "  <thead>\n",
       "    <tr style=\"text-align: right;\">\n",
       "      <th></th>\n",
       "      <th>category</th>\n",
       "      <th>month</th>\n",
       "    </tr>\n",
       "  </thead>\n",
       "  <tbody>\n",
       "    <tr>\n",
       "      <th>0</th>\n",
       "      <td>anti-social-behaviour</td>\n",
       "      <td>2020-01</td>\n",
       "    </tr>\n",
       "    <tr>\n",
       "      <th>1</th>\n",
       "      <td>anti-social-behaviour</td>\n",
       "      <td>2020-01</td>\n",
       "    </tr>\n",
       "    <tr>\n",
       "      <th>2</th>\n",
       "      <td>other-theft</td>\n",
       "      <td>2020-01</td>\n",
       "    </tr>\n",
       "    <tr>\n",
       "      <th>3</th>\n",
       "      <td>other-theft</td>\n",
       "      <td>2020-01</td>\n",
       "    </tr>\n",
       "    <tr>\n",
       "      <th>4</th>\n",
       "      <td>violent-crime</td>\n",
       "      <td>2020-01</td>\n",
       "    </tr>\n",
       "    <tr>\n",
       "      <th>...</th>\n",
       "      <td>...</td>\n",
       "      <td>...</td>\n",
       "    </tr>\n",
       "    <tr>\n",
       "      <th>3</th>\n",
       "      <td>public-order</td>\n",
       "      <td>2022-02</td>\n",
       "    </tr>\n",
       "    <tr>\n",
       "      <th>4</th>\n",
       "      <td>violent-crime</td>\n",
       "      <td>2022-02</td>\n",
       "    </tr>\n",
       "    <tr>\n",
       "      <th>5</th>\n",
       "      <td>violent-crime</td>\n",
       "      <td>2022-02</td>\n",
       "    </tr>\n",
       "    <tr>\n",
       "      <th>6</th>\n",
       "      <td>violent-crime</td>\n",
       "      <td>2022-02</td>\n",
       "    </tr>\n",
       "    <tr>\n",
       "      <th>7</th>\n",
       "      <td>violent-crime</td>\n",
       "      <td>2022-02</td>\n",
       "    </tr>\n",
       "  </tbody>\n",
       "</table>\n",
       "<p>237 rows × 2 columns</p>\n",
       "</div>"
      ],
      "text/plain": [
       "                 category    month\n",
       "0   anti-social-behaviour  2020-01\n",
       "1   anti-social-behaviour  2020-01\n",
       "2             other-theft  2020-01\n",
       "3             other-theft  2020-01\n",
       "4           violent-crime  2020-01\n",
       "..                    ...      ...\n",
       "3            public-order  2022-02\n",
       "4           violent-crime  2022-02\n",
       "5           violent-crime  2022-02\n",
       "6           violent-crime  2022-02\n",
       "7           violent-crime  2022-02\n",
       "\n",
       "[237 rows x 2 columns]"
      ]
     },
     "execution_count": 7,
     "metadata": {},
     "output_type": "execute_result"
    }
   ],
   "source": [
    "# select only necessary data for analysis\n",
    "df = df[[\"category\", \"month\"]]\n",
    "df"
   ]
  },
  {
   "cell_type": "code",
   "execution_count": 8,
   "id": "ff1c075b",
   "metadata": {},
   "outputs": [
    {
     "data": {
      "text/html": [
       "<div>\n",
       "<style scoped>\n",
       "    .dataframe tbody tr th:only-of-type {\n",
       "        vertical-align: middle;\n",
       "    }\n",
       "\n",
       "    .dataframe tbody tr th {\n",
       "        vertical-align: top;\n",
       "    }\n",
       "\n",
       "    .dataframe thead th {\n",
       "        text-align: right;\n",
       "    }\n",
       "</style>\n",
       "<table border=\"1\" class=\"dataframe\">\n",
       "  <thead>\n",
       "    <tr style=\"text-align: right;\">\n",
       "      <th></th>\n",
       "      <th>category</th>\n",
       "      <th>month</th>\n",
       "    </tr>\n",
       "  </thead>\n",
       "  <tbody>\n",
       "    <tr>\n",
       "      <th>0</th>\n",
       "      <td>anti-social-behaviour</td>\n",
       "      <td>2020-01</td>\n",
       "    </tr>\n",
       "    <tr>\n",
       "      <th>1</th>\n",
       "      <td>anti-social-behaviour</td>\n",
       "      <td>2020-01</td>\n",
       "    </tr>\n",
       "    <tr>\n",
       "      <th>2</th>\n",
       "      <td>other-theft</td>\n",
       "      <td>2020-01</td>\n",
       "    </tr>\n",
       "    <tr>\n",
       "      <th>3</th>\n",
       "      <td>other-theft</td>\n",
       "      <td>2020-01</td>\n",
       "    </tr>\n",
       "    <tr>\n",
       "      <th>4</th>\n",
       "      <td>violent-crime</td>\n",
       "      <td>2020-01</td>\n",
       "    </tr>\n",
       "  </tbody>\n",
       "</table>\n",
       "</div>"
      ],
      "text/plain": [
       "                category    month\n",
       "0  anti-social-behaviour  2020-01\n",
       "1  anti-social-behaviour  2020-01\n",
       "2            other-theft  2020-01\n",
       "3            other-theft  2020-01\n",
       "4          violent-crime  2020-01"
      ]
     },
     "execution_count": 8,
     "metadata": {},
     "output_type": "execute_result"
    }
   ],
   "source": [
    "# set month column to date variable type\n",
    "df['month'] = pd.to_datetime(df['month'])\n",
    "df['month'] = df['month'].dt.date.apply(lambda x: x.strftime('%Y-%m'))\n",
    "# https://stackoverflow.com/questions/50511640/how-to-convert-string-to-datetime-without-days-in-pandas"
   ]
  },
  {
   "cell_type": "markdown",
   "id": "dce4c799",
   "metadata": {},
   "source": [
    "#### 3. Check if any missing value exists"
   ]
  },
  {
   "cell_type": "code",
   "execution_count": 9,
   "id": "7680a1dd",
   "metadata": {},
   "outputs": [
    {
     "data": {
      "text/plain": [
       "category    0\n",
       "month       0\n",
       "dtype: int64"
      ]
     },
     "execution_count": 9,
     "metadata": {},
     "output_type": "execute_result"
    }
   ],
   "source": [
    "df.isnull().sum()"
   ]
  },
  {
   "cell_type": "markdown",
   "id": "cc77fc88",
   "metadata": {},
   "source": [
    "Data is cleaned and ready for the next step."
   ]
  },
  {
   "cell_type": "markdown",
   "id": "79951b36",
   "metadata": {},
   "source": [
    "---"
   ]
  },
  {
   "cell_type": "markdown",
   "id": "c15ffc34",
   "metadata": {},
   "source": [
    "### Exploratory Data Analysis: EDA"
   ]
  },
  {
   "cell_type": "markdown",
   "id": "efd6ab29",
   "metadata": {},
   "source": [
    "In Last 2 Years, which type of crimes has the most frequently occurred."
   ]
  },
  {
   "cell_type": "code",
   "execution_count": 10,
   "id": "10852ed6",
   "metadata": {},
   "outputs": [],
   "source": [
    "sns.set(style='darkgrid', color_codes=True)"
   ]
  },
  {
   "cell_type": "code",
   "execution_count": 21,
   "id": "61dff078",
   "metadata": {},
   "outputs": [
    {
     "data": {
      "text/plain": [
       "Text(0.5, 0, 'Period of time')"
      ]
     },
     "execution_count": 21,
     "metadata": {},
     "output_type": "execute_result"
    },
    {
     "data": {
      "image/png": "[encoded data removed]",
      "text/plain": [
       "<Figure size 432x288 with 1 Axes>"
      ]
     },
     "metadata": {},
     "output_type": "display_data"
    }
   ],
   "source": [
    "data_plot = df.groupby('month').count()\n",
    "\n",
    "ax = data_plot.plot(color='red',\n",
    "               legend=False,\n",
    "               linewidth=2)\n",
    "ax\n",
    "plt.title('Frequency of crimes through years')\n",
    "plt.ylabel('Number of crimes occur')\n",
    "plt.xlabel('Period of time')"
   ]
  },
  {
   "cell_type": "code",
   "execution_count": 40,
   "id": "e7a99dfc",
   "metadata": {},
   "outputs": [
    {
     "data": {
      "text/plain": [
       "<AxesSubplot:title={'center':'Crime categories ocurring Comparison from last 2 years'}, ylabel='Frequency'>"
      ]
     },
     "execution_count": 40,
     "metadata": {},
     "output_type": "execute_result"
    },
    {
     "data": {
      "image/png": "[encoded data removed]",
      "text/plain": [
       "<Figure size 720x576 with 1 Axes>"
      ]
     },
     "metadata": {},
     "output_type": "display_data"
    }
   ],
   "source": [
    "# plot but use category mapping for more cleaned visualisation\n",
    "ax = df['category'].map(mapping_dict).value_counts().plot(kind=\"bar\",\n",
    "                                                     color=\"crimson\",\n",
    "                                                     figsize=(10, 8))\n",
    "\n",
    "plt.xticks(rotation=60)\n",
    "plt.ylabel('Frequency')\n",
    "plt.title('Crime categories ocurring Comparison from last 2 years')\n",
    "\n",
    "ax.bar_label(ax.containers[0]) # https://stackoverflow.com/questions/25447700/annotate-bars-with-values-on-pandas-bar-plots\n",
    "\n",
    "plt.show()"
   ]
  },
  {
   "cell_type": "code",
   "execution_count": 149,
   "id": "8c92f7cf",
   "metadata": {},
   "outputs": [
    {
     "name": "stdout",
     "output_type": "stream",
     "text": [
      "total crimes occur during 2 years: 237\n",
      "average crimes occur per month: 9.48\n"
     ]
    }
   ],
   "source": [
    "crime_sum = df['category'].value_counts().sum()\n",
    "print('total crimes occur during 2 years: ' + str(crime_sum))\n",
    "\n",
    "number_of_month = len(df['month'].unique())\n",
    "print('average crimes occur per month: ' + str(crime_sum / number_of_month))"
   ]
  },
  {
   "cell_type": "markdown",
   "id": "d89ef16f",
   "metadata": {},
   "source": [
    "---"
   ]
  },
  {
   "cell_type": "markdown",
   "id": "2643deb0",
   "metadata": {},
   "source": [
    "### Machine Learning Testing\n",
    "    For this dataset, I will use Sklearn DummyClassifier, which does not provide any insight about the data using only simple rule for prediction. The classifier's behavior is completely independent of the training data as the trends, but instead, uses one of 'strategies' to predict the class label. Because of data's limitation, I decide to use the most simple Classifier, which usually be used as baseline, just to show only concept of applying machine learning to the data ignoring efficiency of Model's prediction. "
   ]
  },
  {
   "cell_type": "markdown",
   "id": "0edf0c01",
   "metadata": {},
   "source": [
    "#### 1. Pre-Processing<br>\n",
    "\n",
    "First, For classification model, the ML model accept only numerical values, so we need to convert all crime catagorical variables into label values \n",
    "(different category mapped to different integers). And LabelEncoding will be used in this situation."
   ]
  },
  {
   "cell_type": "code",
   "execution_count": 114,
   "id": "9a3e6728",
   "metadata": {},
   "outputs": [
    {
     "data": {
      "text/html": [
       "<div>\n",
       "<style scoped>\n",
       "    .dataframe tbody tr th:only-of-type {\n",
       "        vertical-align: middle;\n",
       "    }\n",
       "\n",
       "    .dataframe tbody tr th {\n",
       "        vertical-align: top;\n",
       "    }\n",
       "\n",
       "    .dataframe thead th {\n",
       "        text-align: right;\n",
       "    }\n",
       "</style>\n",
       "<table border=\"1\" class=\"dataframe\">\n",
       "  <thead>\n",
       "    <tr style=\"text-align: right;\">\n",
       "      <th></th>\n",
       "      <th>category</th>\n",
       "      <th>Encoded1</th>\n",
       "      <th>Encoded2</th>\n",
       "    </tr>\n",
       "  </thead>\n",
       "  <tbody>\n",
       "    <tr>\n",
       "      <th>0</th>\n",
       "      <td>Anti-social behaviour</td>\n",
       "      <td>0</td>\n",
       "      <td>0</td>\n",
       "    </tr>\n",
       "    <tr>\n",
       "      <th>1</th>\n",
       "      <td>Anti-social behaviour</td>\n",
       "      <td>0</td>\n",
       "      <td>0</td>\n",
       "    </tr>\n",
       "    <tr>\n",
       "      <th>2</th>\n",
       "      <td>Other theft</td>\n",
       "      <td>6</td>\n",
       "      <td>6</td>\n",
       "    </tr>\n",
       "    <tr>\n",
       "      <th>3</th>\n",
       "      <td>Other theft</td>\n",
       "      <td>6</td>\n",
       "      <td>6</td>\n",
       "    </tr>\n",
       "    <tr>\n",
       "      <th>4</th>\n",
       "      <td>Violence and sexual offences</td>\n",
       "      <td>12</td>\n",
       "      <td>12</td>\n",
       "    </tr>\n",
       "    <tr>\n",
       "      <th>5</th>\n",
       "      <td>Violence and sexual offences</td>\n",
       "      <td>12</td>\n",
       "      <td>12</td>\n",
       "    </tr>\n",
       "    <tr>\n",
       "      <th>0</th>\n",
       "      <td>Burglary</td>\n",
       "      <td>2</td>\n",
       "      <td>2</td>\n",
       "    </tr>\n",
       "    <tr>\n",
       "      <th>1</th>\n",
       "      <td>Burglary</td>\n",
       "      <td>2</td>\n",
       "      <td>2</td>\n",
       "    </tr>\n",
       "  </tbody>\n",
       "</table>\n",
       "</div>"
      ],
      "text/plain": [
       "                       category  Encoded1  Encoded2\n",
       "0         Anti-social behaviour         0         0\n",
       "1         Anti-social behaviour         0         0\n",
       "2                   Other theft         6         6\n",
       "3                   Other theft         6         6\n",
       "4  Violence and sexual offences        12        12\n",
       "5  Violence and sexual offences        12        12\n",
       "0                      Burglary         2         2\n",
       "1                      Burglary         2         2"
      ]
     },
     "execution_count": 114,
     "metadata": {},
     "output_type": "execute_result"
    }
   ],
   "source": [
    "# Label encoding\n",
    "# Note that with categorical variable containing many multiple labels, OnehotEncoder will expand the space drmatically making computaion more costly.\n",
    "# and Label Encoding cannot work for linear models, SVMs, or neural networks which I'm not going to use in this project. \n",
    "from sklearn.preprocessing import LabelEncoder\n",
    "\n",
    "le = LabelEncoder()\n",
    "df1 = pd.DataFrame(df['category'].map(mapping_dict))\n",
    "df1['Encoded1'] = le.fit_transform(df1['category'])\n",
    "\n",
    "# duplicate column\n",
    "df1['Encoded2'] = df1['Encoded1']\n",
    "df1.head(8)"
   ]
  },
  {
   "cell_type": "markdown",
   "id": "ff11374f",
   "metadata": {},
   "source": [
    "#### 2. Train / Fit Model"
   ]
  },
  {
   "cell_type": "code",
   "execution_count": 125,
   "id": "8f1fcbdd",
   "metadata": {},
   "outputs": [
    {
     "data": {
      "text/plain": [
       "((165,), (72,), (165,), (72,))"
      ]
     },
     "execution_count": 125,
     "metadata": {},
     "output_type": "execute_result"
    }
   ],
   "source": [
    "from sklearn.model_selection import train_test_split\n",
    "\n",
    "X = df1['Encoded1'].array\n",
    "y = df1['Encoded2'].array\n",
    "\n",
    "# split data for model training\n",
    "X_train, X_test, y_train, y_test = train_test_split(X, y, test_size=0.3, random_state=0)\n",
    "X_train.shape, X_test.shape, y_train.shape, y_test.shape"
   ]
  },
  {
   "cell_type": "code",
   "execution_count": 136,
   "id": "6c3e3b02",
   "metadata": {},
   "outputs": [
    {
     "data": {
      "text/plain": [
       "DummyClassifier(random_state=0, strategy='stratified')"
      ]
     },
     "execution_count": 136,
     "metadata": {},
     "output_type": "execute_result"
    }
   ],
   "source": [
    "from sklearn.dummy import DummyClassifier\n",
    "\n",
    "model = DummyClassifier(strategy='stratified', random_state=0)\n",
    "# with the 'stratified' strategy, estimator generate random predictions by respecting the training set class distribution.\n",
    "# random_state is like random seed in random library: generating (pseudo-) random number make it give consistent result after trainings.\n",
    "model.fit(X_train, y_train)"
   ]
  },
  {
   "cell_type": "markdown",
   "id": "92e255ea",
   "metadata": {},
   "source": [
    "#### 3. Predict"
   ]
  },
  {
   "cell_type": "code",
   "execution_count": 137,
   "id": "5d4008e0",
   "metadata": {},
   "outputs": [
    {
     "data": {
      "text/plain": [
       "array([ 8,  8,  2,  6, 10, 12, 12,  7, 12,  6,  8, 10,  8,  3, 12,  8,  5,\n",
       "       12,  2,  0,  8, 12,  6, 12, 12, 10, 12, 10,  6, 12,  0, 12,  2, 10,\n",
       "        0,  0,  0, 12, 12, 12, 12,  0, 12,  6,  8,  8,  8,  8, 12,  3,  0,\n",
       "       12,  8,  6, 12, 12,  0,  2,  0,  8,  0, 12, 12, 12, 12,  7, 12,  8,\n",
       "        3,  0,  8, 12])"
      ]
     },
     "execution_count": 137,
     "metadata": {},
     "output_type": "execute_result"
    }
   ],
   "source": [
    "y_hat = model.predict(X_test)\n",
    "y_hat"
   ]
  },
  {
   "cell_type": "markdown",
   "id": "7a02c622",
   "metadata": {},
   "source": [
    "#### 4. Scoring"
   ]
  },
  {
   "cell_type": "code",
   "execution_count": 138,
   "id": "488213a4",
   "metadata": {},
   "outputs": [
    {
     "name": "stdout",
     "output_type": "stream",
     "text": [
      "Accuracy score: 0.19444\n"
     ]
    }
   ],
   "source": [
    "from sklearn.metrics import accuracy_score\n",
    "\n",
    "a_score = accuracy_score(y_test, y_hat) # compare predicted data: y_hat with already existed data: y_test\n",
    "print('Accuracy score: ' +  str(a_score.round(5)))"
   ]
  },
  {
   "cell_type": "markdown",
   "id": "05c8c64c",
   "metadata": {},
   "source": [
    "You can see that it's not a good estimator alone, usually be used with other classifiers as baseline (as mentioned in article I had researched).<br>\n",
    "But as a result, model can predict the data with accuracy 19.44% (Better than just randomly guess crimes occuring)<br>\n",
    "And again, due to limitation of the data, It's quite hard to choose a model that fit the data properly. Although poor result of applying Machine learning, both of tasks (use REST API and Machine learning) still be done following the instruction.\n",
    "\n",
    "#### <u>For more discussion about Classifier</u>\n",
    "\n",
    "I did so much research on Decision Trees and Ramdom Forest Classifier, which are used in many projects of crimes prediction in google scholar.<br>\n",
    "It seem to give more insight and better accuracy from both of the models, but lacking of features in the dataset and ML knowledge, I decide to <br>\n",
    "use DummyClassifier which is quite simple and seems easy to understand algorithm giving a poor result of prediction. But after all done of work, It gave<br>\n",
    "me a good introduction of Machine Learning (Scikit-learn) in Data Analysis, and I will definitely continue to learn it more after this course."
   ]
  },
  {
   "cell_type": "markdown",
   "id": "93bb4cab",
   "metadata": {},
   "source": [
    "---"
   ]
  },
  {
   "cell_type": "markdown",
   "id": "900cfd36",
   "metadata": {},
   "source": [
    "### Reference:\n",
    "\n",
    "* [Complete Guide To Handling Categorical Data Using Scikit-Learn](https://analyticsindiamag.com/complete-guide-to-handling-categorical-data-using-scikit-learn/)\n",
    "* [Sciki-learn Documentation: Metrics and scoring: quantifying the quality of predictions](https://scikit-learn.org/stable/modules/model_evaluation.html#metrics-and-scoring-quantifying-the-quality-of-predictions)\n",
    "* [Sciki-learn Documentation: Dummy Classifier](https://scikit-learn.org/stable/modules/generated/sklearn.dummy.DummyClassifier.html)\n",
    "* [Scikit-learn Documentation: Precision-Recall metric](https://scikit-learn.org/stable/auto_examples/model_selection/plot_precision_recall.html)\n",
    "* [Towards Data Science: Why Using a Dummy Classifier is a Smart Move](https://towardsdatascience.com/why-using-a-dummy-classifier-is-a-smart-move-4a55080e3549)"
   ]
  }
 ],
 "metadata": {
  "kernelspec": {
   "display_name": "Python 3.10.6 64-bit",
   "language": "python",
   "name": "python3"
  },
  "language_info": {
   "codemirror_mode": {
    "name": "ipython",
    "version": 3
   },
   "file_extension": ".py",
   "mimetype": "text/x-python",
   "name": "python",
   "nbconvert_exporter": "python",
   "pygments_lexer": "ipython3",
   "version": "3.10.6"
  },
  "vscode": {
   "interpreter": {
    "hash": "a9cff5a362bc38ef45d817ae74b1af54d6a076e3d773891282bce078b815ba34"
   }
  }
 },
 "nbformat": 4,
 "nbformat_minor": 5
}
